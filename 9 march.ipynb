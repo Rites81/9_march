{
 "cells": [
  {
   "cell_type": "markdown",
   "id": "0a32b72a",
   "metadata": {},
   "source": [
    "### Q1: What are the Probability Mass Function (PMF) and Probability Density Function (PDF)? Explain with an example."
   ]
  },
  {
   "cell_type": "markdown",
   "id": "89067de5",
   "metadata": {},
   "source": [
    "## A Probability Distribution Function (PDF) is a mathematical function that describes the likelihood of different outcomes in a random experiment.\n",
    "# P(a < X ≤ b) = F(b) – F(a)"
   ]
  },
  {
   "cell_type": "markdown",
   "id": "e185a028",
   "metadata": {},
   "source": [
    "## The Probability Mass Function (PMF) is a mathematical function that describes the probability distribution of a discrete random variable. It is a function that takes the possible values of the discrete random variable as its input and returns the probability of each value occurring. \n",
    "\n",
    "## P (X = x) = nCx px (1 – p) n-x"
   ]
  },
  {
   "cell_type": "markdown",
   "id": "6bc9778b",
   "metadata": {},
   "source": [
    "## Q2: What is Cumulative Density Function (CDF)? Explain with an example. Why CDF is used?\n",
    "\n",
    "### The Cumulative Distribution Function (CDF), of a real-valued random variable X, evaluated at x, is the probability function that X will take a value less than or equal to x."
   ]
  },
  {
   "cell_type": "markdown",
   "id": "15364925",
   "metadata": {},
   "source": [
    "## Q3: What are some examples of situations where the normal distribution might be used as a model? Explain how the parameters of the normal distribution relate to the shape of the distribution."
   ]
  },
  {
   "cell_type": "markdown",
   "id": "6a6a49f0",
   "metadata": {},
   "source": [
    "##### The normal distribution is widely used in various fields due to its natural occurrence in many real-world phenomena. Here are some examples of situations where the normal distribution might be used as a model:\n",
    "\n",
    "Height of Individuals\n",
    "Test Scores\n",
    "Measurement Errors\n",
    "Stock Prices\n",
    "Blood Pressure \n",
    "\n",
    "##### The mean (μ) shifts the location of the distribution.\n",
    "#### The standard deviation (σ) changes the width and height of the distribution."
   ]
  },
  {
   "cell_type": "markdown",
   "id": "b01983a1",
   "metadata": {},
   "source": [
    "##### Q4: Importance of Normal Distribution and Real-Life Examples\n",
    "The normal distribution is crucial in statistics and many fields because it naturally describes many phenomena and forms the basis for many statistical methods. Its importance includes:\n",
    "\n",
    "Central Limit Theorem: This theorem states that the sum (or average) of a large number of independent, identically distributed variables will be approximately normally distributed, regardless of the underlying distribution. This makes the normal distribution foundational for inferential statistics.\n",
    "\n",
    "Parameter Estimation: Many statistical techniques, such as confidence intervals and hypothesis tests, rely on the assumption of normality.\n",
    "\n",
    "Error Analysis: Measurement errors often follow a normal distribution, making it essential in fields like engineering and physics.\n",
    "\n",
    "Real-Life Examples:\n",
    "\n",
    "Human Traits: Heights, weights, and blood pressure of individuals within a population typically follow a normal distribution.\n",
    "Standardized Testing: Scores on exams like the SAT, GRE, and IQ tests are designed to be normally distributed.\n",
    "Finance: Stock returns, particularly over short time periods, often approximate a normal distribution.\n",
    "    \n",
    "    \n",
    "    \n",
    "##### Q5: Bernoulli Distribution and Its Difference from Binomial Distribution\n",
    "Bernoulli Distribution:\n",
    "\n",
    "A Bernoulli distribution is a discrete probability distribution for a random variable which has exactly two possible outcomes: 1 (success) with probability \n",
    "\n",
    "Example: Flipping a coin, where heads (success) could be assigned the value 1 and tails (failure) assigned the value 0.\n",
    "Difference from Binomial Distribution:\n",
    "\n",
    "The Bernoulli distribution describes a single trial, while the binomial distribution describes the number of successes in a fixed number of independent Bernoulli trials.\n",
    "Example: Flipping a coin 10 times and counting the number of heads follows a binomial distribution.\n",
    "\n",
    "\n",
    "\n",
    "##### Q6: Probability of a Random Observation Being Greater Than 60\n",
    "Given:\n",
    "\n",
    "Mean (μ) = 50\n",
    "Standard Deviation (σ) = 10\n",
    "We need to find the probability that a randomly selected observation \n",
    "𝑋\n",
    "X is greater than 60. This can be found using the z-score formula:\n",
    "\n",
    "\n",
    "\n",
    "### Q7: Uniform Distribution\n",
    "\n",
    "Uniform Distribution: A distribution where all outcomes are equally likely within a certain range. It can be continuous or discrete.\n",
    "\n",
    "Example: Rolling a fair die. Each face (1 through 6) has an equal probability of 1/6.\n",
    "\n",
    "###### Q8: Z-Score\n",
    "Z-Score: The number of standard deviations a data point is from the mean of its distribution.  \n",
    "\n",
    "Importance:\n",
    "\n",
    "It standardizes different datasets to a common scale.\n",
    "It helps in comparing scores from different distributions.\n",
    "It is used in calculating probabilities and in various statistical tests.\n",
    "\n",
    "\n",
    "###### Q9: Central Limit Theorem (CLT)\n",
    "Central Limit Theorem: States that the sampling distribution of the sample mean will be approximately normally distributed, regardless of the original distribution, provided the sample size is sufficiently large (typically \n",
    "𝑛≥30n≥30).\n",
    "\n",
    "Significance:\n",
    "\n",
    "It allows for the use of normal distribution in hypothesis testing and confidence interval estimation even when the underlying distribution is not normal.\n",
    "It underpins many statistical methods and ensures that they can be applied to real-world data.\n",
    "Q10: Assumptions of the Central Limit Theorem\n",
    "Independence: The samples must be independent of each other.\n",
    "Sample Size: The sample size should be sufficiently large. While 30 is a common rule of thumb, the required size can be smaller for distributions that are already nearly normal.\n",
    "Identically Distributed: The population from which samples are drawn should be identically distributed"
   ]
  },
  {
   "cell_type": "code",
   "execution_count": null,
   "id": "c2140fc1",
   "metadata": {},
   "outputs": [],
   "source": []
  },
  {
   "cell_type": "code",
   "execution_count": null,
   "id": "9b516927",
   "metadata": {},
   "outputs": [],
   "source": []
  },
  {
   "cell_type": "code",
   "execution_count": null,
   "id": "c5a75f2c",
   "metadata": {},
   "outputs": [],
   "source": []
  }
 ],
 "metadata": {
  "kernelspec": {
   "display_name": "Python 3 (ipykernel)",
   "language": "python",
   "name": "python3"
  },
  "language_info": {
   "codemirror_mode": {
    "name": "ipython",
    "version": 3
   },
   "file_extension": ".py",
   "mimetype": "text/x-python",
   "name": "python",
   "nbconvert_exporter": "python",
   "pygments_lexer": "ipython3",
   "version": "3.10.10"
  }
 },
 "nbformat": 4,
 "nbformat_minor": 5
}
